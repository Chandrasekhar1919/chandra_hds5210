{
  "cells": [
    {
      "cell_type": "markdown",
      "metadata": {
        "nbgrader": {
          "grade": false,
          "grade_id": "intro",
          "locked": true,
          "schema_version": 1,
          "solution": false
        },
        "id": "geB8GmDX7BwD"
      },
      "source": [
        "# Week 4 Assignment\n",
        "\n",
        "See: _McKinney 3.1_ and [Python Documentation](https://docs.python.org/3/tutorial/datastructures.html) section 5 on data structures.\n",
        "\n",
        "Modules 13 through 15 have all been about different built-in data types that can be used to create larger and more complex data structures.  We learned about tuples, lists, dictionaries, and how to access and process that data in new ways.\n",
        "\n",
        "**At the begining of the semester, all of the workshop programming exercises will be structured a specific way to make it easier to verify for yourself that you're on the right track as well as easier for me to do a first pass on automated grading.  The structure of each question will require you to write a function using Python code. Don't worry that we haven't talked about functions yet. Just edit the code between** `### BEGIN SOLUTION` and `### END SOLUTION` **as shown in the example below.**\n"
      ]
    },
    {
      "cell_type": "markdown",
      "metadata": {
        "id": "xCcTe88f7BwO"
      },
      "source": [
        "**WHAT I PROVIDE:**\n",
        "```\n",
        "def some_function(parameter1, parameter2):\n",
        "\n",
        "   ### BEGIN SOLUTION\n",
        "   x = -1\n",
        "   ### END SOLUTION\n",
        "   \n",
        "   return x\n",
        "```\n",
        "\n",
        "**WHAT YOU SHOULD DO:** Just change the parameter names (if you feel you need to) and the calculations between `### BEGIN SOLUTION` and `### END SOLUTION`.  This is just a made up example.\n",
        "```\n",
        "def some_function(a, b):\n",
        "\n",
        "   ### BEGIN SOLUTION\n",
        "   temp = a + b\n",
        "   x = temp / a * b\n",
        "   ### END SOLUTION\n",
        "   \n",
        "   return x\n",
        "```\n"
      ]
    },
    {
      "cell_type": "markdown",
      "metadata": {
        "id": "HpRfBomX7BwQ"
      },
      "source": [
        "---\n",
        "---\n",
        "\n",
        "**Below each programming exercise are some tests (`assertions`) that verify your code is working correctly.  If any assertions fail, you know that something isnt' right with your code, but having all assertions pass doesn't necessarily mean your code is perfect, yet. You should also create your own tests to make sure your code is correct.**\n",
        "\n",
        "**For now, please don't change any function names**"
      ]
    },
    {
      "cell_type": "markdown",
      "metadata": {
        "id": "G5RNJRjQ7BwS"
      },
      "source": [
        "### 15.1 Create a sorted list of names\n",
        "\n",
        "Take the list of names below (some are first and last, others are first, middle, and last) and produce a final list of full names.\n",
        "\n",
        "```\n",
        "sort_names([\n",
        "  ['Adam', 'Doyle'],\n",
        "  ['Kermit','the','Frog'],\n",
        "  ['Donald','Duck']])\n",
        "\n",
        "['Adam Doyle', 'Donald Duck', 'Kermit the Frog']\n",
        "```"
      ]
    },
    {
      "cell_type": "markdown",
      "metadata": {
        "id": "PEZCIdSE7BwT"
      },
      "source": [
        "**Tip:** If you have a list of lists and want to sort it, Python can do that. It will simply sort using the first item in each of the lists inside your list."
      ]
    },
    {
      "cell_type": "code",
      "execution_count": 30,
      "metadata": {
        "id": "fodZnNN17BwU"
      },
      "outputs": [],
      "source": [
        "names = [['Adam', 'Doyle'],\n",
        "  ['Kermit','Frog'],\n",
        "  ['Donald','Duck']]"
      ]
    },
    {
      "cell_type": "code",
      "execution_count": 31,
      "metadata": {
        "id": "jkqPb3NU7BwX"
      },
      "outputs": [],
      "source": [
        "def name_sorter(name_list):\n",
        "    # Do something\n",
        "    full_names = [' '.join(name) for name in names]\n",
        "    # Sorting full names\n",
        "    full_names.sort()\n",
        "    return full_names"
      ]
    },
    {
      "cell_type": "code",
      "execution_count": 32,
      "metadata": {
        "id": "HNcUbpGg7BwZ"
      },
      "outputs": [],
      "source": [
        "names = [['Adam', 'Doyle'],\n",
        "  ['Kermit','the', 'Frog'],\n",
        "  ['Donald','Duck']]\n",
        "\n",
        "assert name_sorter(names) == [\"Adam Doyle\", \"Donald Duck\", \"Kermit the Frog\"]"
      ]
    },
    {
      "cell_type": "markdown",
      "metadata": {
        "id": "2sJbXSGa7Bwb"
      },
      "source": [
        "### 15.2 Convert a dictionary to a list\n",
        "\n",
        "In this exercise, we're going to take a dictionary that has families and their names, and convert that into a list of names.  The dictionary is structured such that the key is the family name, and the value for that key is a list of first names.\n",
        "\n",
        "```\n",
        "{\n",
        "  'Doyle': ['Adam', 'Oliver', 'Xavier'],\n",
        "  'Duck': ['Donald', 'Daisy', 'Howard'],\n",
        "  'Mouse': ['Mickey', 'Minnie', 'Mighty']\n",
        "}\n",
        "\n",
        "[['Doyle', 'Adam'],\n",
        " ['Doyle', 'Oliver'],\n",
        " ['Doyle', 'Xavier'],\n",
        " ['Duck', 'Donald'],\n",
        " ['Duck', 'Daisy'],\n",
        " ...\n",
        "```"
      ]
    },
    {
      "cell_type": "code",
      "execution_count": 32,
      "metadata": {
        "id": "Qvs50Z0n7Bwd"
      },
      "outputs": [],
      "source": []
    },
    {
      "cell_type": "code",
      "execution_count": 33,
      "metadata": {
        "id": "YETmhv1i7Bwe"
      },
      "outputs": [],
      "source": [
        "def dict_to_list(families):\n",
        "    # Do something\n",
        "    output = []\n",
        "    for family, first_names in families.items():\n",
        "        for first_name in first_names:\n",
        "            output.append([family, first_name]) #adding the family and first name to list\n",
        "    return output"
      ]
    },
    {
      "cell_type": "code",
      "execution_count": 34,
      "metadata": {
        "id": "RSdAf8jR7Bwh",
        "outputId": "df1f93e9-4965-4623-8f6e-b0b95131e9ea",
        "colab": {
          "base_uri": "https://localhost:8080/"
        }
      },
      "outputs": [
        {
          "output_type": "execute_result",
          "data": {
            "text/plain": [
              "[['Duck', 'Hewey'],\n",
              " ['Duck', 'Dewey'],\n",
              " ['Duck', 'Louie'],\n",
              " ['Mouse', 'Mickey'],\n",
              " ['Mouse', 'Minney']]"
            ]
          },
          "metadata": {},
          "execution_count": 34
        }
      ],
      "source": [
        "families = {\n",
        "  'Doyle': ['Adam', 'Oliver', 'Xavier'],\n",
        "  'Duck': ['Donald', 'Daisy', 'Howard'],\n",
        "  'Mouse': ['Mickey', 'Minnie', 'Mighty']\n",
        "}\n",
        "\n",
        "dict_to_list({'Duck': ['Hewey','Dewey','Louie'],\n",
        "              'Mouse': ['Mickey','Minney']})"
      ]
    },
    {
      "cell_type": "markdown",
      "metadata": {
        "nbgrader": {
          "grade": false,
          "grade_id": "average",
          "locked": true,
          "schema_version": 1,
          "solution": false
        },
        "id": "-7gAhPUb7Bwi"
      },
      "source": [
        "### 20.3 Convert a list to a dictionary\n",
        "\n",
        "Take the list of lists below and convert it into a dictionary where the entries in the dictionary are keyed off of whatever values are in column 0, and the dictionary values are the list of all the values that appear with that key from the input list."
      ]
    },
    {
      "cell_type": "code",
      "execution_count": 35,
      "metadata": {
        "nbgrader": {
          "grade": false,
          "grade_id": "average-answer",
          "locked": false,
          "schema_version": 1,
          "solution": true
        },
        "id": "kl4Ch9LL7Bwj"
      },
      "outputs": [],
      "source": [
        "def list_to_dict():\n",
        "\n",
        "    names = [['Doyle', 'Adam'],\n",
        " ['Doyle', 'Oliver'],\n",
        " ['Doyle', 'Xavier'],\n",
        " ['Duck', 'Donald'],\n",
        " ['Duck', 'Daisy'],\n",
        " ['Mouse', 'Mickey'],\n",
        " ['Mouse', 'Minnie'],\n",
        " ['Mouse', 'Mighty']\n",
        " ]\n",
        "\n",
        "    # To help you, I've provided a blank dictionary named `families`.\n",
        "    families = {}\n",
        "\n",
        "    # Your code should loop through `names` and do something to build\n",
        "    # up `families` to be the output dictionary shown in the test\n",
        "    # cells below.\n",
        "\n",
        "    # Put your solution here\n",
        "    for last_name, first_name in names:\n",
        "        if last_name not in families:\n",
        "            families[last_name] = []\n",
        "        families[last_name].append(first_name)\n",
        "    return families\n"
      ]
    },
    {
      "cell_type": "code",
      "execution_count": 36,
      "metadata": {
        "id": "dQCT4RfX7Bwk",
        "outputId": "a40162a2-0b31-454e-bd33-c2008727473b",
        "colab": {
          "base_uri": "https://localhost:8080/"
        }
      },
      "outputs": [
        {
          "output_type": "execute_result",
          "data": {
            "text/plain": [
              "{'Doyle': ['Adam', 'Oliver', 'Xavier'],\n",
              " 'Duck': ['Donald', 'Daisy'],\n",
              " 'Mouse': ['Mickey', 'Minnie', 'Mighty']}"
            ]
          },
          "metadata": {},
          "execution_count": 36
        }
      ],
      "source": [
        "list_to_dict()"
      ]
    },
    {
      "cell_type": "code",
      "execution_count": 37,
      "metadata": {
        "nbgrader": {
          "grade": true,
          "grade_id": "average-tests",
          "locked": true,
          "points": 5,
          "schema_version": 1,
          "solution": false
        },
        "id": "mR45Ybmr7Bwk"
      },
      "outputs": [],
      "source": [
        "answer = {\n",
        " 'Doyle':    ['Adam', 'Oliver', 'Xavier'],\n",
        " 'Duck':    ['Donald', 'Daisy'],\n",
        " 'Mouse':   ['Mickey', 'Minnie', 'Mighty']\n",
        "}\n",
        "\n",
        "assert (list_to_dict() == answer)"
      ]
    },
    {
      "cell_type": "markdown",
      "metadata": {
        "id": "VJIQwVgQ7Bwl"
      },
      "source": [
        "### 20.4 Join using a dictionary\n",
        "\n",
        "We have a list of patients, diagnosis, and length of stay.  We also have a dictionary that contains diagnosis and average length of stay.  Produce an output list that lists the patient and an indicator if the patient's stay was 'too long', 'too short', 'just right'"
      ]
    },
    {
      "cell_type": "code",
      "execution_count": 38,
      "metadata": {
        "nbgrader": {
          "grade": false,
          "grade_id": "cell-f3813e33810dc898",
          "locked": false,
          "schema_version": 1,
          "solution": true
        },
        "id": "1CgB4NfP7Bwm"
      },
      "outputs": [],
      "source": [
        "def patient_los(avg_los, patients):\n",
        "\n",
        "    conclusions = []\n",
        "    # Put your solution here\n",
        "\n",
        "    for patient in patients:\n",
        "        name, diagnosis, stay_length = patient\n",
        "        # Get the average length of stay\n",
        "        avg_length = avg_los.get(diagnosis, None)\n",
        "\n",
        "        # Determine if the stay was 'too long', 'too short', or 'just right'\n",
        "        if avg_length is not None:\n",
        "            if stay_length > avg_length:\n",
        "                conclusion = 'too long'\n",
        "            elif stay_length < avg_length:\n",
        "                conclusion = 'too short'\n",
        "            else:\n",
        "                conclusion = 'just right'\n",
        "            conclusions.append([name, conclusion])\n",
        "\n",
        "    return conclusions"
      ]
    },
    {
      "cell_type": "code",
      "execution_count": 39,
      "metadata": {
        "id": "ZQca99Ix7Bwm",
        "outputId": "129de791-74d8-49c1-960a-8cfa05216308",
        "colab": {
          "base_uri": "https://localhost:8080/"
        }
      },
      "outputs": [
        {
          "output_type": "execute_result",
          "data": {
            "text/plain": [
              "[['Doyle', 'too short'],\n",
              " ['Doyle', 'too long'],\n",
              " ['Jones', 'just right'],\n",
              " ['Ashbury', 'too short']]"
            ]
          },
          "metadata": {},
          "execution_count": 39
        }
      ],
      "source": [
        "avg_los = {\n",
        "    \"Hemolytic jaundice and perinatal jaundice\" : 2,\n",
        "    \"Medical examination/evaluation\" : 3.2,\n",
        "    \"Liveborn\" : 3.2,\n",
        "    \"Trauma to perineum and vulva\" : 2.1,\n",
        "    \"Normal pregnancy and/or delivery\" : 2,\n",
        "    \"Umbilical cord complication\" : 2.1,\n",
        "    \"Forceps delivery\" : 2.2,\n",
        "    \"Administrative/social admission\" : 4.2,\n",
        "    \"Prolonged pregnancy\" : 2.4,\n",
        "    \"Other complications of pregnancy\" : 2.5\n",
        "}\n",
        "\n",
        "patients = [\n",
        "    ['Doyle', 'Medical examination/evaluation', 1.1],\n",
        "    ['Doyle', 'Other complications of pregnancy', 3.3],\n",
        "    ['Jones', 'Liveborn', 3.2],\n",
        "    ['Ashbury', 'Forceps delivery', 2.0]\n",
        "]\n",
        "\n",
        "patient_los(avg_los, patients)"
      ]
    },
    {
      "cell_type": "code",
      "execution_count": 40,
      "metadata": {
        "nbgrader": {
          "grade": true,
          "grade_id": "cell-2af0a520bb56ee21",
          "locked": true,
          "points": 10,
          "schema_version": 1,
          "solution": false
        },
        "id": "0Svgf1y_7Bwn"
      },
      "outputs": [],
      "source": [
        "conclusions = [['Doyle', 'too short'],\n",
        "    ['Doyle', 'too long'],\n",
        "    ['Jones', 'just right'],\n",
        "    ['Ashbury', 'too short']]\n",
        "\n",
        "assert(patient_los(avg_los, patients) == conclusions)"
      ]
    },
    {
      "cell_type": "code",
      "execution_count": 40,
      "metadata": {
        "id": "q-dbOtWN7Bwn"
      },
      "outputs": [],
      "source": []
    },
    {
      "cell_type": "markdown",
      "metadata": {
        "id": "RuJ5X9Mv7Bwn"
      },
      "source": [
        "---\n",
        "\n",
        "## Check your work above\n",
        "\n",
        "If you didn't get them all correct, take a few minutes to think through those that aren't correct.\n",
        "\n",
        "\n",
        "## Submitting Your Work\n",
        "\n",
        "In order to submit your work, you'll need to save this notebook file back to GitHub.  To do that in Google Colab:\n",
        "1. File -> Save a Copy in GitHub\n",
        "2. Make sure your HDS5210 repository is selected\n",
        "3. Make sure the file name includes the week number like this: `week04/week04_assignment_2.ipynb`\n",
        "4. Add a commit message that means something\n",
        "\n",
        "**Be sure week names are lowercase and use a two digit week number!!**\n",
        "\n",
        "**Be sure you use the same file name provided by the instructor!!**\n",
        "\n"
      ]
    },
    {
      "cell_type": "markdown",
      "metadata": {
        "id": "VojYh2j_7Bwo"
      },
      "source": []
    }
  ],
  "metadata": {
    "celltoolbar": "Create Assignment",
    "kernelspec": {
      "display_name": "Python 3",
      "language": "python",
      "name": "python3"
    },
    "language_info": {
      "codemirror_mode": {
        "name": "ipython",
        "version": 3
      },
      "file_extension": ".py",
      "mimetype": "text/x-python",
      "name": "python",
      "nbconvert_exporter": "python",
      "pygments_lexer": "ipython3",
      "version": "3.6.7"
    },
    "colab": {
      "provenance": []
    }
  },
  "nbformat": 4,
  "nbformat_minor": 0
}