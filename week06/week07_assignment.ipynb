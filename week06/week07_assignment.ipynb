{
  "cells": [
    {
      "cell_type": "markdown",
      "metadata": {
        "id": "_S5YGZIDOno4"
      },
      "source": [
        "# Week 7 Assignment\n",
        "\n",
        "We've been working with different types of data structures in Python (dictionary, list, etc), how those are represented in JSON documents, and how to write code to access specific data elements. In this week's assignment, you will need to create your own JSON document to store information about yourself and the grades you've received from week 1 to week 4 and the week 6 quiz.  That is, everything you should have received a grade for.  Then you'll need to show me you know how to navigate the JSON in that file.\n",
        "\n",
        "Different from what we've done in the past, you do not have to write any functions or include any docstrings.  Just create some JSON and write some code.\n",
        "\n",
        "---"
      ]
    },
    {
      "cell_type": "markdown",
      "metadata": {
        "id": "nsbE--vKOno7"
      },
      "source": [
        "## 7.1 Create a JSON file\n",
        "\n",
        "Create a JSON file that contains your name, email, year you were born, all of the grades you've received back so far, and a comment about what you thought was most challenging on each of those assignments.  This can be any structure you choose, but make sure it uses a dictionary and a list, and has at least two levels of hierarchy.  That is, it can't just be one big long list."
      ]
    },
    {
      "cell_type": "markdown",
      "metadata": {
        "id": "wZAqmMr3Ono8"
      },
      "source": [
        "First, explain how your data structure is going to look..."
      ]
    },
    {
      "cell_type": "markdown",
      "metadata": {
        "id": "eZUOwB_OOno8"
      },
      "source": [
        "* Put your explanation here in text..."
      ]
    },
    {
      "cell_type": "markdown",
      "metadata": {
        "id": "oBGKXr4IOno8"
      },
      "source": [
        "Then put the actual JSON you've created inside the multiline string below..."
      ]
    },
    {
      "cell_type": "code",
      "execution_count": 8,
      "metadata": {
        "id": "PkFt0viaOno9"
      },
      "outputs": [],
      "source": [
        "hds5210 ='''{\n",
        "  \"name\": \"Chandra Sekhar Ponugumati\",\n",
        "  \"email\": \"chandrasekhar.ponugumati@slu.edu\",\n",
        "  \"github\": \"Chandrasekhar1919\",\n",
        "  \"grades\": [\n",
        "    {\n",
        "      \"week\": \"week-1\",\n",
        "      \"score\": 10\n",
        "    },\n",
        "    {\n",
        "      \"week\": \"week-2\",\n",
        "      \"score\": 9\n",
        "    },\n",
        "    {\n",
        "      \"week\": \"week-3\",\n",
        "      \"score\": 11\n",
        "    },\n",
        "    {\n",
        "      \"week\": \"week-4\",\n",
        "      \"score\": 11\n",
        "    },\n",
        "    {\n",
        "      \"week\": \"week-6\",\n",
        "      \"quiz\": \"week-6-quiz\",\n",
        "      \"score\": null\n",
        "    }\n",
        "  ]\n",
        "}'''"
      ]
    },
    {
      "cell_type": "markdown",
      "metadata": {
        "id": "ORGa7hMcOno-"
      },
      "source": [
        "## 7.2 Do something with your JSON\n",
        "\n",
        "Now use Python code to do something with the Json above.  Turn it into English text, but make sure that you use at least one loop to access some dict or list content of your JSON.  Below, I've provided some basic code to read in the string above as JSON and return a Python object.  Your job is to work with that data structure and print out the important information like your name, email, and how you did on each assignment."
      ]
    },
    {
      "cell_type": "code",
      "execution_count": 11,
      "metadata": {
        "colab": {
          "base_uri": "https://localhost:8080/"
        },
        "id": "51mdfB9_Ono-",
        "outputId": "4845861f-5e29-4d1e-b1c5-33496e014239"
      },
      "outputs": [
        {
          "output_type": "stream",
          "name": "stdout",
          "text": [
            "Hi, my name is Chandra Sekhar Ponugumati. You can reach me at chandrasekhar.ponugumati@slu.edu. My GitHub is Chandrasekhar1919.\n",
            "I have the following grades:\n",
            " - week-1: 10\n",
            " - week-2: 9\n",
            " - week-3: 11\n",
            " - week-4: 11\n",
            " - week-6: Not yet graded\n",
            "My average grade (excluding ungraded quizzes) is 10.25.\n"
          ]
        }
      ],
      "source": [
        "import json\n",
        "\n",
        "info = json.loads(hds5210)\n",
        "# Put your code to output a paragraph of English text here\n",
        "my_name = info[\"name\"]\n",
        "my_email = info[\"email\"]\n",
        "my_github = info[\"github\"]\n",
        "my_grades = info[\"grades\"]\n",
        "\n",
        "# Calculate average score, excluding None values\n",
        "valid_scores = [grade['score'] for grade in my_grades if grade['score'] is not None]\n",
        "my_average = sum(valid_scores) / len(valid_scores) if valid_scores else 0\n",
        "\n",
        "# Print personal information\n",
        "print(f\"Hi, my name is {my_name}. You can reach me at {my_email}. My GitHub is {my_github}.\")\n",
        "print(f\"I have the following grades:\")\n",
        "for grade in my_grades:\n",
        "    print(f\" - {grade['week']}: {grade['score'] if grade['score'] is not None else 'Not yet graded'}\")\n",
        "print(f\"My average grade (excluding ungraded quizzes) is {my_average:.2f}.\")"
      ]
    },
    {
      "cell_type": "code",
      "source": [],
      "metadata": {
        "id": "Fd6bKrnfid_W"
      },
      "execution_count": null,
      "outputs": []
    },
    {
      "cell_type": "markdown",
      "metadata": {
        "id": "cqthupFtOno-"
      },
      "source": [
        "## 7.3 Reflect\n",
        "\n",
        "Write a paragraph on any reflections you have. Was this hard? Easy?  What parts were most challenging or easiest? What did you like or dislike about the assignment?  Share whatever important thoughts you have abou this assignment."
      ]
    },
    {
      "cell_type": "markdown",
      "metadata": {
        "id": "BC1H_uxQOno_"
      },
      "source": [
        "As an computer science student i have a little bit experience in python and its libraries. But i have not worked on the json file format. It was a new experience for me to learn how to read the json file and access the data and write the code for different problems. I have faced some problems at the start to access file for the data and a little bit of understanding needed for the structure of the json file and write the code for the problem.\n"
      ]
    },
    {
      "cell_type": "markdown",
      "metadata": {
        "id": "tj2Qk6DqOno_"
      },
      "source": [
        "---\n",
        "\n",
        "# Example\n",
        "\n",
        "Below is an example of something similar, but this uses information my and my friend's kids instead of grades."
      ]
    },
    {
      "cell_type": "code",
      "execution_count": 6,
      "metadata": {
        "colab": {
          "base_uri": "https://localhost:8080/"
        },
        "id": "9mRgdIacOno_",
        "outputId": "99101404-48b9-4811-f401-8ff981fa51f6"
      },
      "outputs": [
        {
          "output_type": "stream",
          "name": "stdout",
          "text": [
            "Hi, my name is Paul. I've got 3 kids. Their names are Ellie, Ada, Teddy.\n",
            "My friend, Anny has 1 kids. That's fewer than me. Their names are 1\n"
          ]
        }
      ],
      "source": [
        "hds5210 = \"\"\"\n",
        "{\n",
        "    \"me\": {\n",
        "        \"name\": \"Paul\",\n",
        "        \"kids\": [\"Ellie\", \"Ada\", \"Teddy\"]\n",
        "    },\n",
        "    \"friend\": {\n",
        "        \"name\": \"Anny\",\n",
        "        \"kids\": [\"Abby\"]\n",
        "    }\n",
        "}\n",
        "\"\"\"\n",
        "\n",
        "import json\n",
        "\n",
        "info = json.loads(hds5210)\n",
        "\n",
        "me = info[\"me\"][\"name\"]\n",
        "my_kids_count = len(info[\"me\"][\"kids\"])\n",
        "kids_list = \", \".join(info[\"me\"][\"kids\"])\n",
        "friend = info[\"friend\"][\"name\"]\n",
        "friends_kid_count = len(info[\"friend\"][\"kids\"])\n",
        "friend_kids = \", \".join(info[\"friend\"][\"kids\"])\n",
        "compare = \"more\" if friends_kid_count > my_kids_count else \"fewer\"\n",
        "\n",
        "print(f\"Hi, my name is {me}. I've got {my_kids_count} kids. Their names are {kids_list}.\")\n",
        "print(f\"My friend, {friend} has {friends_kid_count} kids. That's {compare} than me. Their names are {friends_kid_count}\")"
      ]
    },
    {
      "cell_type": "code",
      "source": [],
      "metadata": {
        "id": "xsMMAk2GZgsb"
      },
      "execution_count": null,
      "outputs": []
    }
  ],
  "metadata": {
    "kernelspec": {
      "display_name": "Python 3",
      "language": "python",
      "name": "python3"
    },
    "language_info": {
      "codemirror_mode": {
        "name": "ipython",
        "version": 3
      },
      "file_extension": ".py",
      "mimetype": "text/x-python",
      "name": "python",
      "nbconvert_exporter": "python",
      "pygments_lexer": "ipython3",
      "version": "3.9.16"
    },
    "colab": {
      "provenance": []
    }
  },
  "nbformat": 4,
  "nbformat_minor": 0
}