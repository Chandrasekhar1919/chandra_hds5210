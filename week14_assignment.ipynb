{
  "cells": [
    {
      "cell_type": "markdown",
      "metadata": {
        "id": "view-in-github",
        "colab_type": "text"
      },
      "source": [
        "<a href=\"https://colab.research.google.com/github/Chandrasekhar1919/chandra_hds5210/blob/main/week14_assignment.ipynb\" target=\"_parent\"><img src=\"https://colab.research.google.com/assets/colab-badge.svg\" alt=\"Open In Colab\"/></a>"
      ]
    },
    {
      "cell_type": "markdown",
      "metadata": {
        "nbgrader": {
          "grade": false,
          "grade_id": "intro",
          "locked": true,
          "schema_version": 1,
          "solution": false
        },
        "id": "xU5KDqoZHngY"
      },
      "source": [
        "# Working with multiple data sets\n",
        "\n",
        "There are two data files that we'll be working with for this week's assignment.  They are described below.  Load those data files in with Pandas and then work to answering each of the questions below.  All of these files are found in our usual s3 bucket: `https://hds5210-data.s3.amazonaws.com`\n",
        "\n",
        "## npidata.csv\n",
        "\n",
        "This file is basic information about every healthcare provider in the US.  It has one row for each NPI (National Provider Identifier).  It contains information such as the provider's name and address.\n",
        "\n",
        "* https://hds5210-data.s3.amazonaws.com/npidata.csv\n",
        "\n",
        "\n",
        "## cmsYYYY.csv\n",
        "\n",
        "These are files about what kinds of procedures and patients providers in the US are serving under CMS programs, Medicare and Medicaid.  Each contains various statistics about providers over the course of a year.  There are three of these, for the years 2014, 2015, and 2016.  These files, however, don't contain information about the provider such as where the provider is located.\n",
        "\n",
        "* https://hds5210-data.s3.amazonaws.com/cms2014.csv\n",
        "* https://hds5210-data.s3.amazonaws.com/cms2015.csv\n",
        "* https://hds5210-data.s3.amazonaws.com/cms2016.csv\n",
        "\n",
        "## Our Goals\n",
        "\n",
        "For this assignment, we're going to want to compute some statistics based on the data in the **cms** files, but aggregate that data based on information in the **npidata** file.  As in last week's assignment, you'll need to store your answers in a variable called `answer` at the end of each step."
      ]
    },
    {
      "cell_type": "code",
      "execution_count": 46,
      "metadata": {
        "nbgrader": {
          "grade": false,
          "grade_id": "import",
          "locked": true,
          "schema_version": 1,
          "solution": false
        },
        "id": "eF5MvP9aHnga"
      },
      "outputs": [],
      "source": [
        "import pandas as pd\n",
        "import requests"
      ]
    },
    {
      "cell_type": "markdown",
      "metadata": {
        "nbgrader": {
          "grade": false,
          "grade_id": "01-intro",
          "locked": true,
          "schema_version": 1,
          "solution": false
        },
        "id": "kDIfRkz1Hngb"
      },
      "source": [
        "## Part 1\n",
        "\n",
        "In this first step, we'll need to merge together all of the **cms** files into a single dataframe.  Be careful that these files might not be identical, so you'll have to look a little bit to figure out how to merge them.\n",
        "\n",
        "As you are merging them, make sure that you retain information about which file (i.e. which year) the data came from.  Call that new columns `year`.\n",
        "\n",
        "In your `answer` variable, provide a complete data frame that contains all of the rows and columns from the **cms** files, plus an additional column to store the year/file that particular row came from.\n",
        "\n",
        "The assertion tests will give you a good idea as to if you're merging the files correctly."
      ]
    },
    {
      "cell_type": "code",
      "execution_count": 47,
      "metadata": {
        "nbgrader": {
          "grade": false,
          "grade_id": "01-solution",
          "locked": false,
          "schema_version": 1,
          "solution": true
        },
        "colab": {
          "base_uri": "https://localhost:8080/"
        },
        "id": "nTdIHcqwHngc",
        "outputId": "d724940d-62a4-4c78-91de-38bfa4ac64d0"
      },
      "outputs": [
        {
          "output_type": "stream",
          "name": "stdout",
          "text": [
            "(193862, 118)\n",
            "   nbr           npi                    provider_type  \\\n",
            "0    1  1.003000e+09                        Pathology   \n",
            "1   19  1.003001e+09               Physical Therapist   \n",
            "2   21  1.003001e+09  Mass Immunization Roster Biller   \n",
            "3   37  1.003002e+09                     Chiropractic   \n",
            "4   73  1.003005e+09            Clinical Psychologist   \n",
            "\n",
            "  medicare_participation_indicator  number_of_hcpcs  total_services  \\\n",
            "0                                Y             13.0          8643.0   \n",
            "1                                Y              4.0          1221.0   \n",
            "2                                Y              7.0           788.0   \n",
            "3                                Y              2.0           142.0   \n",
            "4                                Y              3.0           130.0   \n",
            "\n",
            "   total_unique_benes  total_submitted_chrg_amt  total_medicare_allowed_amt  \\\n",
            "0              4276.0                1357139.00                   321641.88   \n",
            "1                69.0                  88686.28                    34060.09   \n",
            "2               370.0                  21640.24                    21634.91   \n",
            "3                22.0                   7458.44                     5037.51   \n",
            "4                11.0                  20640.00                    14968.22   \n",
            "\n",
            "   total_medicare_payment_amt  ...  BENEFICIARY_CC_DEPR_PERCENT  \\\n",
            "0                   245364.34  ...                          NaN   \n",
            "1                    26055.17  ...                          NaN   \n",
            "2                    21199.22  ...                          NaN   \n",
            "3                     3727.01  ...                          NaN   \n",
            "4                    11334.69  ...                          NaN   \n",
            "\n",
            "  BENEFICIARY_CC_DIAB_PERCENT  BENEFICIARY_CC_HYPERL_PERCENT  \\\n",
            "0                         NaN                            NaN   \n",
            "1                         NaN                            NaN   \n",
            "2                         NaN                            NaN   \n",
            "3                         NaN                            NaN   \n",
            "4                         NaN                            NaN   \n",
            "\n",
            "   BENEFICIARY_CC_HYPERT_PERCENT  BENEFICIARY_CC_IHD_PERCENT  \\\n",
            "0                            NaN                         NaN   \n",
            "1                            NaN                         NaN   \n",
            "2                            NaN                         NaN   \n",
            "3                            NaN                         NaN   \n",
            "4                            NaN                         NaN   \n",
            "\n",
            "   BENEFICIARY_CC_OST_PERCENT  BENEFICIARY_CC_RAOA_PERCENT  \\\n",
            "0                         NaN                          NaN   \n",
            "1                         NaN                          NaN   \n",
            "2                         NaN                          NaN   \n",
            "3                         NaN                          NaN   \n",
            "4                         NaN                          NaN   \n",
            "\n",
            "   BENEFICIARY_CC_SCHIOT_PERCENT  BENEFICIARY_CC_STRK_PERCENT  \\\n",
            "0                            NaN                          NaN   \n",
            "1                            NaN                          NaN   \n",
            "2                            NaN                          NaN   \n",
            "3                            NaN                          NaN   \n",
            "4                            NaN                          NaN   \n",
            "\n",
            "  BENEFICIARY_AVERAGE_RISK_SCORE  \n",
            "0                            NaN  \n",
            "1                            NaN  \n",
            "2                            NaN  \n",
            "3                            NaN  \n",
            "4                            NaN  \n",
            "\n",
            "[5 rows x 118 columns]\n",
            "Column names:\n",
            "['nbr', 'npi', 'provider_type', 'medicare_participation_indicator', 'number_of_hcpcs', 'total_services', 'total_unique_benes', 'total_submitted_chrg_amt', 'total_medicare_allowed_amt', 'total_medicare_payment_amt', 'total_medicare_stnd_amt', 'drug_suppress_indicator', 'number_of_drug_hcpcs', 'total_drug_services', 'total_drug_unique_benes', 'total_drug_submitted_chrg_amt', 'total_drug_medicare_allowed_amt', 'total_drug_medicare_payment_amt', 'total_drug_medicare_stnd_amt', 'med_suppress_indicator', 'number_of_med_hcpcs', 'total_med_services', 'total_med_unique_benes', 'total_med_submitted_chrg_amt', 'total_med_medicare_allowed_amt', 'total_med_medicare_payment_amt', 'total_med_medicare_stnd_amt', 'beneficiary_average_age', 'beneficiary_age_less_65_count', 'beneficiary_age_65_74_count', 'beneficiary_age_75_84_count', 'beneficiary_age_greater_84_count', 'beneficiary_female_count', 'beneficiary_male_count', 'beneficiary_race_white_count', 'beneficiary_race_black_count', 'beneficiary_race_api_count', 'beneficiary_race_hispanic_count', 'beneficiary_race_natind_count', 'beneficiary_race_other_count', 'beneficiary_nondual_count', 'beneficiary_dual_count', 'beneficiary_cc_afib_percent', 'beneficiary_cc_alzrdsd_percent', 'beneficiary_cc_asthma_percent', 'beneficiary_cc_cancer_percent', 'beneficiary_cc_chf_percent', 'beneficiary_cc_ckd_percent', 'beneficiary_cc_copd_percent', 'beneficiary_cc_depr_percent', 'beneficiary_cc_diab_percent', 'beneficiary_cc_hyperl_percent', 'beneficiary_cc_hypert_percent', 'beneficiary_cc_ihd_percent', 'beneficiary_cc_ost_percent', 'beneficiary_cc_raoa_percent', 'beneficiary_cc_schiot_percent', 'beneficiary_cc_strk_percent', 'Beneficiary_Average_Risk_Score', 'year', 'NPI', 'PROVIDER_TYPE', 'MEDICARE_PARTICIPATION_INDICATOR', 'NUMBER_OF_HCPCS', 'TOTAL_SERVICES', 'TOTAL_UNIQUE_BENES', 'TOTAL_SUBMITTED_CHRG_AMT', 'TOTAL_MEDICARE_ALLOWED_AMT', 'TOTAL_MEDICARE_PAYMENT_AMT', 'TOTAL_MEDICARE_STND_AMT', 'DRUG_SUPPRESS_INDICATOR', 'NUMBER_OF_DRUG_HCPCS', 'TOTAL_DRUG_SERVICES', 'TOTAL_DRUG_UNIQUE_BENES', 'TOTAL_DRUG_SUBMITTED_CHRG_AMT', 'TOTAL_DRUG_MEDICARE_ALLOWED_AMT', 'TOTAL_DRUG_MEDICARE_PAYMENT_AMT', 'TOTAL_DRUG_MEDICARE_STND_AMT', 'MED_SUPPRESS_INDICATOR', 'NUMBER_OF_MED_HCPCS', 'TOTAL_MED_SERVICES', 'TOTAL_MED_UNIQUE_BENES', 'TOTAL_MED_SUBMITTED_CHRG_AMT', 'TOTAL_MED_MEDICARE_ALLOWED_AMT', 'TOTAL_MED_MEDICARE_PAYMENT_AMT', 'TOTAL_MED_MEDICARE_STND_AMT', 'BENEFICIARY_AVERAGE_AGE', 'BENEFICIARY_AGE_LESS_65_COUNT', 'BENEFICIARY_AGE_65_74_COUNT', 'BENEFICIARY_AGE_75_84_COUNT', 'BENEFICIARY_AGE_GREATER_84_COUNT', 'BENEFICIARY_FEMALE_COUNT', 'BENEFICIARY_MALE_COUNT', 'BENEFICIARY_RACE_WHITE_COUNT', 'BENEFICIARY_RACE_BLACK_COUNT', 'BENEFICIARY_RACE_API_COUNT', 'BENEFICIARY_RACE_HISPANIC_COUNT', 'BENEFICIARY_RACE_NATIND_COUNT', 'BENEFICIARY_RACE_OTHER_COUNT', 'BENEFICIARY_NONDUAL_COUNT', 'BENEFICIARY_DUAL_COUNT', 'BENEFICIARY_CC_AFIB_PERCENT', 'BENEFICIARY_CC_ALZRDSD_PERCENT', 'BENEFICIARY_CC_ASTHMA_PERCENT', 'BENEFICIARY_CC_CANCER_PERCENT', 'BENEFICIARY_CC_CHF_PERCENT', 'BENEFICIARY_CC_CKD_PERCENT', 'BENEFICIARY_CC_COPD_PERCENT', 'BENEFICIARY_CC_DEPR_PERCENT', 'BENEFICIARY_CC_DIAB_PERCENT', 'BENEFICIARY_CC_HYPERL_PERCENT', 'BENEFICIARY_CC_HYPERT_PERCENT', 'BENEFICIARY_CC_IHD_PERCENT', 'BENEFICIARY_CC_OST_PERCENT', 'BENEFICIARY_CC_RAOA_PERCENT', 'BENEFICIARY_CC_SCHIOT_PERCENT', 'BENEFICIARY_CC_STRK_PERCENT', 'BENEFICIARY_AVERAGE_RISK_SCORE']\n"
          ]
        }
      ],
      "source": [
        "import pandas as pd\n",
        "import requests\n",
        "from io import StringIO\n",
        "\n",
        "# Function to load CSV using requests\n",
        "def load_csv(url):\n",
        "    response = requests.get(url)\n",
        "    response.raise_for_status()  # Raise an error for bad responses\n",
        "    return pd.read_csv(StringIO(response.text), low_memory=False)\n",
        "\n",
        "# Load the CMS data for each year\n",
        "cms_2014 = load_csv('https://hds5210-data.s3.amazonaws.com/cms2014.csv')\n",
        "cms_2015 = load_csv('https://hds5210-data.s3.amazonaws.com/cms2015.csv')\n",
        "cms_2016 = load_csv('https://hds5210-data.s3.amazonaws.com/cms2016.csv')\n",
        "\n",
        "# Add a new column for the year\n",
        "cms_2014['year'] = 2014\n",
        "cms_2015['year'] = 2015\n",
        "cms_2016['year'] = 2016\n",
        "\n",
        "# Concatenate the DataFrames into a single DataFrame\n",
        "cms_combined = pd.concat([cms_2014, cms_2015, cms_2016], ignore_index=True)\n",
        "\n",
        "# Store the result in the variable 'answer'\n",
        "answer = cms_combined\n",
        "\n",
        "print(answer.shape)\n",
        "\n",
        "# Display the first few rows of the combined DataFrame\n",
        "print(answer.head())\n",
        "\n",
        "\n",
        "\n",
        "# Print all column names\n",
        "print(\"Column names:\")\n",
        "print(answer.columns.tolist())\n",
        "  # Use index=False to omit the index column"
      ]
    },
    {
      "cell_type": "code",
      "execution_count": 48,
      "metadata": {
        "nbgrader": {
          "grade": true,
          "grade_id": "01-tests",
          "locked": true,
          "points": 5,
          "schema_version": 1,
          "solution": false
        },
        "id": "Az9DJ9qKHngc"
      },
      "outputs": [],
      "source": [
        "assert(answer.shape == (193862, 118))\n",
        "assert(list(answer['year'].unique()) == [2014, 2015, 2016])\n",
        "assert(set(answer.columns.str.lower()) == set(['year', 'nbr', 'npi', 'provider_type',\n",
        "       'medicare_participation_indicator', 'number_of_hcpcs', 'total_services',\n",
        "       'total_unique_benes', 'total_submitted_chrg_amt',\n",
        "       'total_medicare_allowed_amt', 'total_medicare_payment_amt',\n",
        "       'total_medicare_stnd_amt', 'drug_suppress_indicator',\n",
        "       'number_of_drug_hcpcs', 'total_drug_services',\n",
        "       'total_drug_unique_benes', 'total_drug_submitted_chrg_amt',\n",
        "       'total_drug_medicare_allowed_amt', 'total_drug_medicare_payment_amt',\n",
        "       'total_drug_medicare_stnd_amt', 'med_suppress_indicator',\n",
        "       'number_of_med_hcpcs', 'total_med_services', 'total_med_unique_benes',\n",
        "       'total_med_submitted_chrg_amt', 'total_med_medicare_allowed_amt',\n",
        "       'total_med_medicare_payment_amt', 'total_med_medicare_stnd_amt',\n",
        "       'beneficiary_average_age', 'beneficiary_age_less_65_count',\n",
        "       'beneficiary_age_65_74_count', 'beneficiary_age_75_84_count',\n",
        "       'beneficiary_age_greater_84_count', 'beneficiary_female_count',\n",
        "       'beneficiary_male_count', 'beneficiary_race_white_count',\n",
        "       'beneficiary_race_black_count', 'beneficiary_race_api_count',\n",
        "       'beneficiary_race_hispanic_count', 'beneficiary_race_natind_count',\n",
        "       'beneficiary_race_other_count', 'beneficiary_nondual_count',\n",
        "       'beneficiary_dual_count', 'beneficiary_cc_afib_percent',\n",
        "       'beneficiary_cc_alzrdsd_percent', 'beneficiary_cc_asthma_percent',\n",
        "       'beneficiary_cc_cancer_percent', 'beneficiary_cc_chf_percent',\n",
        "       'beneficiary_cc_ckd_percent', 'beneficiary_cc_copd_percent',\n",
        "       'beneficiary_cc_depr_percent', 'beneficiary_cc_diab_percent',\n",
        "       'beneficiary_cc_hyperl_percent', 'beneficiary_cc_hypert_percent',\n",
        "       'beneficiary_cc_ihd_percent', 'beneficiary_cc_ost_percent',\n",
        "       'beneficiary_cc_raoa_percent', 'beneficiary_cc_schiot_percent',\n",
        "       'beneficiary_cc_strk_percent', 'beneficiary_average_risk_score']))"
      ]
    },
    {
      "cell_type": "code",
      "execution_count": 48,
      "metadata": {
        "id": "iMK-64U2Hngd"
      },
      "outputs": [],
      "source": []
    },
    {
      "cell_type": "markdown",
      "metadata": {
        "nbgrader": {
          "grade": false,
          "grade_id": "02-intro",
          "locked": true,
          "schema_version": 1,
          "solution": false
        },
        "id": "0Hxp7-VyHngd"
      },
      "source": [
        "## Part 2\n",
        "\n",
        "In this next part, we're going to join the **cms** data with the provider information in the **/data/npidata.csv** file.  In this join, we don't want to lose any records from the **cms** files, even if no matching provider exists in the **npidata** file.  However, we don't care about any providers from the **npidata** file that don't have records in the **cms** files.  Those providers can be ignored.\n",
        "\n",
        "Join the data files together to create one unified data frame called `answer`.  This dataframe should have all the columns from both **cms** and **npidata** files, joined together using the `npi` column.  \n",
        "\n",
        "Note that `npi` is unique in the **npidata** file."
      ]
    },
    {
      "cell_type": "code",
      "execution_count": 49,
      "metadata": {
        "nbgrader": {
          "grade": false,
          "grade_id": "02-solution",
          "locked": false,
          "schema_version": 1,
          "solution": true
        },
        "colab": {
          "base_uri": "https://localhost:8080/"
        },
        "id": "7BmNfK9mHngd",
        "outputId": "180723d3-8cf2-4cfa-d672-d77f49bd68cc"
      },
      "outputs": [
        {
          "output_type": "stream",
          "name": "stdout",
          "text": [
            "(193862, 160)\n",
            "Columns in merged data: Index(['nbr', 'npi', 'provider_type', 'medicare_participation_indicator',\n",
            "       'number_of_hcpcs', 'total_services', 'total_unique_benes',\n",
            "       'total_submitted_chrg_amt', 'total_medicare_allowed_amt',\n",
            "       'total_medicare_payment_amt',\n",
            "       ...\n",
            "       'Provider Business Practice Location Address Postal Code',\n",
            "       'Provider Business Practice Location Address Country Code (If outside U.S.)',\n",
            "       'Provider Business Practice Location Address Telephone Number',\n",
            "       'Provider Business Practice Location Address Fax Number',\n",
            "       'Provider Enumeration Date', 'Last Update Date',\n",
            "       'NPI Deactivation Reason Code', 'NPI Deactivation Date',\n",
            "       'NPI Reactivation Date', 'Provider Gender Code'],\n",
            "      dtype='object', length=160)\n"
          ]
        }
      ],
      "source": [
        "\n",
        "# Load the NPI data\n",
        "npi_data = load_csv('https://hds5210-data.s3.amazonaws.com/npidata.csv')\n",
        "\n",
        "# Rename the NPI column if necessary\n",
        "if 'NPI' in npi_data.columns:\n",
        "    npi_data.rename(columns={'NPI': 'npi'}, inplace=True)\n",
        "\n",
        "# Merge the CMS data with the NPI data\n",
        "answer = pd.merge(answer, npi_data, on='npi', how='left')\n",
        "\n",
        "print(answer.shape)\n",
        "\n",
        "print(\"Columns in merged data:\", answer.columns)"
      ]
    },
    {
      "cell_type": "code",
      "execution_count": 52,
      "metadata": {
        "nbgrader": {
          "grade": true,
          "grade_id": "02-tests",
          "locked": true,
          "points": 5,
          "schema_version": 1,
          "solution": false
        },
        "colab": {
          "base_uri": "https://localhost:8080/",
          "height": 173
        },
        "id": "_o5RZ4a_Hngd",
        "outputId": "5b4f6def-799c-489d-ca39-91e8a969e9c6"
      },
      "outputs": [
        {
          "output_type": "error",
          "ename": "AssertionError",
          "evalue": "State-wise NPI counts mismatch",
          "traceback": [
            "\u001b[0;31m---------------------------------------------------------------------------\u001b[0m",
            "\u001b[0;31mAssertionError\u001b[0m                            Traceback (most recent call last)",
            "\u001b[0;32m<ipython-input-52-0cb909de292b>\u001b[0m in \u001b[0;36m<cell line: 6>\u001b[0;34m()\u001b[0m\n\u001b[1;32m      4\u001b[0m \u001b[0;32massert\u001b[0m \u001b[0manswer\u001b[0m\u001b[0;34m.\u001b[0m\u001b[0mshape\u001b[0m \u001b[0;34m==\u001b[0m \u001b[0;34m(\u001b[0m\u001b[0;36m193862\u001b[0m\u001b[0;34m,\u001b[0m \u001b[0;36m160\u001b[0m\u001b[0;34m)\u001b[0m\u001b[0;34m,\u001b[0m \u001b[0;34m\"Shape mismatch\"\u001b[0m\u001b[0;34m\u001b[0m\u001b[0;34m\u001b[0m\u001b[0m\n\u001b[1;32m      5\u001b[0m \u001b[0;32massert\u001b[0m \u001b[0mlist\u001b[0m\u001b[0;34m(\u001b[0m\u001b[0manswer\u001b[0m\u001b[0;34m[\u001b[0m\u001b[0;34m'Provider Business Mailing Address State Name'\u001b[0m\u001b[0;34m]\u001b[0m\u001b[0;34m.\u001b[0m\u001b[0munique\u001b[0m\u001b[0;34m(\u001b[0m\u001b[0;34m)\u001b[0m\u001b[0;34m)\u001b[0m \u001b[0;34m==\u001b[0m \u001b[0;34m[\u001b[0m\u001b[0;34m'IL'\u001b[0m\u001b[0;34m,\u001b[0m \u001b[0;34m'MO'\u001b[0m\u001b[0;34m,\u001b[0m \u001b[0mnumpy\u001b[0m\u001b[0;34m.\u001b[0m\u001b[0mnan\u001b[0m\u001b[0;34m,\u001b[0m \u001b[0;34m'WY'\u001b[0m\u001b[0;34m]\u001b[0m\u001b[0;34m,\u001b[0m \u001b[0;34m\"State names mismatch\"\u001b[0m\u001b[0;34m\u001b[0m\u001b[0;34m\u001b[0m\u001b[0m\n\u001b[0;32m----> 6\u001b[0;31m \u001b[0;32massert\u001b[0m \u001b[0mlist\u001b[0m\u001b[0;34m(\u001b[0m\u001b[0manswer\u001b[0m\u001b[0;34m.\u001b[0m\u001b[0mgroupby\u001b[0m\u001b[0;34m(\u001b[0m\u001b[0;34m'Provider Business Mailing Address State Name'\u001b[0m\u001b[0;34m)\u001b[0m\u001b[0;34m.\u001b[0m\u001b[0mnpi\u001b[0m\u001b[0;34m.\u001b[0m\u001b[0mcount\u001b[0m\u001b[0;34m(\u001b[0m\u001b[0;34m)\u001b[0m\u001b[0;34m)\u001b[0m \u001b[0;34m==\u001b[0m \u001b[0;34m[\u001b[0m\u001b[0;36m111520\u001b[0m\u001b[0;34m,\u001b[0m \u001b[0;36m53366\u001b[0m\u001b[0;34m,\u001b[0m \u001b[0;36m4805\u001b[0m\u001b[0;34m]\u001b[0m\u001b[0;34m,\u001b[0m \u001b[0;34m\"State-wise NPI counts mismatch\"\u001b[0m\u001b[0;34m\u001b[0m\u001b[0;34m\u001b[0m\u001b[0m\n\u001b[0m",
            "\u001b[0;31mAssertionError\u001b[0m: State-wise NPI counts mismatch"
          ]
        }
      ],
      "source": [
        "import numpy\n",
        "\n",
        "# Updated assertions\n",
        "assert answer.shape == (193862, 160), \"Shape mismatch\"\n",
        "assert list(answer['Provider Business Mailing Address State Name'].unique()) == ['IL', 'MO', numpy.nan, 'WY'], \"State names mismatch\"\n",
        "assert list(answer.groupby('Provider Business Mailing Address State Name').npi.count()) == [111520, 53366, 4805], \"State-wise NPI counts mismatch\""
      ]
    },
    {
      "cell_type": "markdown",
      "metadata": {
        "nbgrader": {
          "grade": false,
          "grade_id": "03-intro",
          "locked": true,
          "schema_version": 1,
          "solution": false
        },
        "id": "ez3zPdIwHnge"
      },
      "source": [
        "## Part 3\n",
        "\n",
        "If you did everything right above, you'll notice that grouping by a column with NaN in it will cause some rows to disappear from the aggregation test.  So, let's create a new column called `'State'` that has the same value as whatever is in the `'Provider Business Mailing Address State Name'` column or a value of `'XX'` if there is no state information.\n",
        "\n",
        "Set `answer` to be your final data frame with the new `'State'` column added."
      ]
    },
    {
      "cell_type": "code",
      "execution_count": 53,
      "metadata": {
        "nbgrader": {
          "grade": false,
          "grade_id": "03-solution",
          "locked": false,
          "schema_version": 1,
          "solution": true
        },
        "colab": {
          "base_uri": "https://localhost:8080/"
        },
        "id": "-P5dlaX0Hnge",
        "outputId": "525c7754-51e9-40c5-b55c-a454ffef9b30"
      },
      "outputs": [
        {
          "output_type": "stream",
          "name": "stdout",
          "text": [
            "   nbr           npi                    provider_type  \\\n",
            "0    1  1.003000e+09                        Pathology   \n",
            "1   19  1.003001e+09               Physical Therapist   \n",
            "2   21  1.003001e+09  Mass Immunization Roster Biller   \n",
            "3   37  1.003002e+09                     Chiropractic   \n",
            "4   73  1.003005e+09            Clinical Psychologist   \n",
            "\n",
            "  medicare_participation_indicator  number_of_hcpcs  total_services  \\\n",
            "0                                Y             13.0          8643.0   \n",
            "1                                Y              4.0          1221.0   \n",
            "2                                Y              7.0           788.0   \n",
            "3                                Y              2.0           142.0   \n",
            "4                                Y              3.0           130.0   \n",
            "\n",
            "   total_unique_benes  total_submitted_chrg_amt  total_medicare_allowed_amt  \\\n",
            "0              4276.0                1357139.00                   321641.88   \n",
            "1                69.0                  88686.28                    34060.09   \n",
            "2               370.0                  21640.24                    21634.91   \n",
            "3                22.0                   7458.44                     5037.51   \n",
            "4                11.0                  20640.00                    14968.22   \n",
            "\n",
            "   total_medicare_payment_amt  ...  \\\n",
            "0                   245364.34  ...   \n",
            "1                    26055.17  ...   \n",
            "2                    21199.22  ...   \n",
            "3                     3727.01  ...   \n",
            "4                    11334.69  ...   \n",
            "\n",
            "   Provider Business Practice Location Address Country Code (If outside U.S.)  \\\n",
            "0                                                 US                            \n",
            "1                                                 US                            \n",
            "2                                                 US                            \n",
            "3                                                 US                            \n",
            "4                                                 US                            \n",
            "\n",
            "  Provider Business Practice Location Address Telephone Number  \\\n",
            "0                                         8475702040             \n",
            "1                                         2174467878             \n",
            "2                                         6605622755             \n",
            "3                                         6362399997             \n",
            "4                                         7089237400             \n",
            "\n",
            "   Provider Business Practice Location Address Fax Number  \\\n",
            "0                                       8.477335e+09        \n",
            "1                                       2.174468e+09        \n",
            "2                                       6.605625e+09        \n",
            "3                                       6.362400e+09        \n",
            "4                                       7.089237e+09        \n",
            "\n",
            "   Provider Enumeration Date  Last Update Date  NPI Deactivation Reason Code  \\\n",
            "0                 08/31/2007        08/06/2008                           NaN   \n",
            "1                 09/11/2007        07/13/2010                           NaN   \n",
            "2                 09/10/2007        09/10/2007                           NaN   \n",
            "3                 09/19/2007        02/19/2019                           NaN   \n",
            "4                 10/22/2007        10/22/2007                           NaN   \n",
            "\n",
            "   NPI Deactivation Date  NPI Reactivation Date  Provider Gender Code State  \n",
            "0                    NaN                    NaN                     M    IL  \n",
            "1                    NaN                    NaN                     M    IL  \n",
            "2                    NaN                    NaN                   NaN    MO  \n",
            "3                    NaN                    NaN                     F    MO  \n",
            "4                    NaN                    NaN                     F    IL  \n",
            "\n",
            "[5 rows x 161 columns]\n"
          ]
        }
      ],
      "source": [
        "# Create the 'State' column\n",
        "answer['State'] = answer['Provider Business Mailing Address State Name'].fillna('XX')\n",
        "\n",
        "# Display the first few rows of the updated DataFrame\n",
        "print(answer.head())\n",
        "\n"
      ]
    },
    {
      "cell_type": "code",
      "execution_count": 54,
      "metadata": {
        "nbgrader": {
          "grade": true,
          "grade_id": "03-tests",
          "locked": true,
          "points": 5,
          "schema_version": 1,
          "solution": false
        },
        "colab": {
          "base_uri": "https://localhost:8080/",
          "height": 156
        },
        "id": "AFdUKS78Hnge",
        "outputId": "0230ca3d-d2c7-4a53-a8af-b0ce2077d115"
      },
      "outputs": [
        {
          "output_type": "error",
          "ename": "AssertionError",
          "evalue": "",
          "traceback": [
            "\u001b[0;31m---------------------------------------------------------------------------\u001b[0m",
            "\u001b[0;31mAssertionError\u001b[0m                            Traceback (most recent call last)",
            "\u001b[0;32m<ipython-input-54-8f06e2b7ac65>\u001b[0m in \u001b[0;36m<cell line: 1>\u001b[0;34m()\u001b[0m\n\u001b[0;32m----> 1\u001b[0;31m \u001b[0;32massert\u001b[0m\u001b[0;34m(\u001b[0m\u001b[0mlist\u001b[0m\u001b[0;34m(\u001b[0m\u001b[0manswer\u001b[0m\u001b[0;34m.\u001b[0m\u001b[0mgroupby\u001b[0m\u001b[0;34m(\u001b[0m\u001b[0;34m'State'\u001b[0m\u001b[0;34m)\u001b[0m\u001b[0;34m.\u001b[0m\u001b[0mnpi\u001b[0m\u001b[0;34m.\u001b[0m\u001b[0mcount\u001b[0m\u001b[0;34m(\u001b[0m\u001b[0;34m)\u001b[0m\u001b[0;34m)\u001b[0m \u001b[0;34m==\u001b[0m \u001b[0;34m[\u001b[0m\u001b[0;36m111520\u001b[0m\u001b[0;34m,\u001b[0m \u001b[0;36m53366\u001b[0m\u001b[0;34m,\u001b[0m \u001b[0;36m4805\u001b[0m\u001b[0;34m,\u001b[0m \u001b[0;36m24171\u001b[0m\u001b[0;34m]\u001b[0m\u001b[0;34m)\u001b[0m\u001b[0;34m\u001b[0m\u001b[0;34m\u001b[0m\u001b[0m\n\u001b[0m\u001b[1;32m      2\u001b[0m \u001b[0;32massert\u001b[0m\u001b[0;34m(\u001b[0m\u001b[0manswer\u001b[0m\u001b[0;34m.\u001b[0m\u001b[0mshape\u001b[0m \u001b[0;34m==\u001b[0m \u001b[0;34m(\u001b[0m\u001b[0;36m193862\u001b[0m\u001b[0;34m,\u001b[0m \u001b[0;36m161\u001b[0m\u001b[0;34m)\u001b[0m\u001b[0;34m)\u001b[0m\u001b[0;34m\u001b[0m\u001b[0;34m\u001b[0m\u001b[0m\n",
            "\u001b[0;31mAssertionError\u001b[0m: "
          ]
        }
      ],
      "source": [
        "assert(list(answer.groupby('State').npi.count()) == [111520, 53366, 4805, 24171])\n",
        "assert(answer.shape == (193862, 161))"
      ]
    },
    {
      "cell_type": "markdown",
      "metadata": {
        "nbgrader": {
          "grade": false,
          "grade_id": "04-intro",
          "locked": true,
          "schema_version": 1,
          "solution": false
        },
        "id": "nMBw_YopHnge"
      },
      "source": [
        "## Part 4\n",
        "\n",
        "Next, let's summarize the data by year and by State.  Create a pivot table that contains one row for each state and one column for each year.  Within the pivot table, put a sum of total services as the values.\n",
        "\n",
        "Assign `answer` to be that resulting pivot table.  In the tests, I'm going to plot a bar chart of your pivot table."
      ]
    },
    {
      "cell_type": "code",
      "execution_count": 55,
      "metadata": {
        "nbgrader": {
          "grade": false,
          "grade_id": "04-solution",
          "locked": false,
          "schema_version": 1,
          "solution": true
        },
        "colab": {
          "base_uri": "https://localhost:8080/"
        },
        "id": "QV3QgnrtHngf",
        "outputId": "b52f2abf-e121-4907-e896-375de1d94741"
      },
      "outputs": [
        {
          "output_type": "stream",
          "name": "stdout",
          "text": [
            "year          2014         2015  2016\n",
            "State                                \n",
            "IL     101393758.4  103048716.3   0.0\n",
            "MO      48577227.1   50808468.0   0.0\n",
            "WY       3487240.6    3800978.9   0.0\n",
            "XX      14938636.4   16533705.2   0.0\n"
          ]
        }
      ],
      "source": [
        "# If the column name is different, replace 'total_services' with the correct name\n",
        "answer_pivot = answer.pivot_table(index='State', columns='year', values='total_services', aggfunc='sum', fill_value=0)\n",
        "\n",
        "# Assign the resulting pivot table to 'answer'\n",
        "answer = answer_pivot\n",
        "\n",
        "# Display the pivot table\n",
        "print(answer)"
      ]
    },
    {
      "cell_type": "code",
      "execution_count": 56,
      "metadata": {
        "nbgrader": {
          "grade": true,
          "grade_id": "04-tests",
          "locked": true,
          "points": 5,
          "schema_version": 1,
          "solution": false
        },
        "colab": {
          "base_uri": "https://localhost:8080/",
          "height": 190
        },
        "id": "FlAab6dUHngf",
        "outputId": "30f23eb9-74a5-4156-821e-a6af14db3038"
      },
      "outputs": [
        {
          "output_type": "error",
          "ename": "AssertionError",
          "evalue": "",
          "traceback": [
            "\u001b[0;31m---------------------------------------------------------------------------\u001b[0m",
            "\u001b[0;31mAssertionError\u001b[0m                            Traceback (most recent call last)",
            "\u001b[0;32m<ipython-input-56-db10226393b0>\u001b[0m in \u001b[0;36m<cell line: 2>\u001b[0;34m()\u001b[0m\n\u001b[1;32m      1\u001b[0m \u001b[0;32massert\u001b[0m\u001b[0;34m(\u001b[0m\u001b[0manswer\u001b[0m\u001b[0;34m.\u001b[0m\u001b[0mshape\u001b[0m \u001b[0;34m==\u001b[0m \u001b[0;34m(\u001b[0m\u001b[0;36m4\u001b[0m\u001b[0;34m,\u001b[0m\u001b[0;36m3\u001b[0m\u001b[0;34m)\u001b[0m\u001b[0;34m)\u001b[0m\u001b[0;34m\u001b[0m\u001b[0;34m\u001b[0m\u001b[0m\n\u001b[0;32m----> 2\u001b[0;31m \u001b[0;32massert\u001b[0m\u001b[0;34m(\u001b[0m\u001b[0manswer\u001b[0m\u001b[0;34m.\u001b[0m\u001b[0msum\u001b[0m\u001b[0;34m(\u001b[0m\u001b[0;34m)\u001b[0m\u001b[0;34m.\u001b[0m\u001b[0msum\u001b[0m\u001b[0;34m(\u001b[0m\u001b[0;34m)\u001b[0m \u001b[0;34m==\u001b[0m \u001b[0;36m519185664.6999999\u001b[0m\u001b[0;34m)\u001b[0m\u001b[0;34m\u001b[0m\u001b[0;34m\u001b[0m\u001b[0m\n\u001b[0m\u001b[1;32m      3\u001b[0m \u001b[0;32massert\u001b[0m\u001b[0;34m(\u001b[0m\u001b[0manswer\u001b[0m\u001b[0;34m[\u001b[0m\u001b[0;36m2016\u001b[0m\u001b[0;34m]\u001b[0m\u001b[0;34m.\u001b[0m\u001b[0msum\u001b[0m\u001b[0;34m(\u001b[0m\u001b[0;34m)\u001b[0m \u001b[0;34m==\u001b[0m \u001b[0;36m176596933.80000004\u001b[0m\u001b[0;34m)\u001b[0m\u001b[0;34m\u001b[0m\u001b[0;34m\u001b[0m\u001b[0m\n\u001b[1;32m      4\u001b[0m \u001b[0;32massert\u001b[0m\u001b[0;34m(\u001b[0m\u001b[0manswer\u001b[0m\u001b[0;34m.\u001b[0m\u001b[0mloc\u001b[0m\u001b[0;34m[\u001b[0m\u001b[0;34m'WY'\u001b[0m\u001b[0;34m]\u001b[0m\u001b[0;34m.\u001b[0m\u001b[0msum\u001b[0m\u001b[0;34m(\u001b[0m\u001b[0;34m)\u001b[0m \u001b[0;34m==\u001b[0m \u001b[0;36m10892707.4\u001b[0m\u001b[0;34m)\u001b[0m\u001b[0;34m\u001b[0m\u001b[0;34m\u001b[0m\u001b[0m\n",
            "\u001b[0;31mAssertionError\u001b[0m: "
          ]
        }
      ],
      "source": [
        "assert(answer.shape == (4,3))\n",
        "assert(answer.sum().sum() == 519185664.6999999)\n",
        "assert(answer[2016].sum() == 176596933.80000004)\n",
        "assert(answer.loc['WY'].sum() == 10892707.4)"
      ]
    },
    {
      "cell_type": "code",
      "execution_count": 57,
      "metadata": {
        "colab": {
          "base_uri": "https://localhost:8080/",
          "height": 490
        },
        "id": "j9zwxlXsHngf",
        "outputId": "3256d5cd-875a-4b1d-b90d-d00314c020d7"
      },
      "outputs": [
        {
          "output_type": "execute_result",
          "data": {
            "text/plain": [
              "<Axes: xlabel='State'>"
            ]
          },
          "metadata": {},
          "execution_count": 57
        },
        {
          "output_type": "display_data",
          "data": {
            "text/plain": [
              "<Figure size 640x480 with 1 Axes>"
            ],
            "image/png": "[encoded data removed]"
          },
          "metadata": {}
        }
      ],
      "source": [
        "%matplotlib inline\n",
        "answer.plot.bar()"
      ]
    },
    {
      "cell_type": "code",
      "execution_count": null,
      "metadata": {
        "id": "pGjUAkx-Hngg"
      },
      "outputs": [],
      "source": []
    }
  ],
  "metadata": {
    "celltoolbar": "Create Assignment",
    "kernelspec": {
      "display_name": "Python 3",
      "language": "python",
      "name": "python3"
    },
    "language_info": {
      "codemirror_mode": {
        "name": "ipython",
        "version": 3
      },
      "file_extension": ".py",
      "mimetype": "text/x-python",
      "name": "python",
      "nbconvert_exporter": "python",
      "pygments_lexer": "ipython3",
      "version": "3.13.0"
    },
    "colab": {
      "provenance": [],
      "include_colab_link": true
    }
  },
  "nbformat": 4,
  "nbformat_minor": 0
}